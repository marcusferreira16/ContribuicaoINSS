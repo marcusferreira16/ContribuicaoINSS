{
  "nbformat": 4,
  "nbformat_minor": 0,
  "metadata": {
    "colab": {
      "name": "Contribuição INSS.ipynb",
      "provenance": []
    },
    "kernelspec": {
      "name": "python3",
      "display_name": "Python 3"
    },
    "language_info": {
      "name": "python"
    }
  },
  "cells": [
    {
      "cell_type": "markdown",
      "metadata": {
        "id": "QR1lEBjDmyea"
      },
      "source": [
        "# Cálculo de INSS para cada salário"
      ]
    },
    {
      "cell_type": "code",
      "metadata": {
        "colab": {
          "base_uri": "https://localhost:8080/"
        },
        "id": "25D0skXOmuFF",
        "outputId": "8cd9439d-0de3-40f9-efd3-cf51f8fb2e32"
      },
      "source": [
        "def calculo_inss(salarios):\n",
        "\n",
        "    for salario in salarios:\n",
        "        if (salario <= 1045.00):\n",
        "            valor = salario * 0.075\n",
        "            print('Com o salário de {} o valor a ser pago ao INSS será de {:.3f}'.format(salario, valor))\n",
        "\n",
        "        elif (salario >= 1045.01 and salario <= 2089.60):\n",
        "            valor = (salario * 0.09) - 15.68\n",
        "            print('Com o salário de {} o valor a ser pago ao INSS será de {:.3f}'.format(salario, valor))\n",
        "\n",
        "        elif (salario >= 2089.61 and salario <= 3134.40):\n",
        "            valor = (salario * 0.12) - 75.36\n",
        "            print('Com o salário de {} o valor a ser pago ao INSS será de {:.3f}'.format(salario, valor))\n",
        "\n",
        "        elif (salario >= 3134.41 and salario <= 6101.06):\n",
        "            valor = (salario * 0.14) - 141.05\n",
        "            print('Com o salário de {} o valor a ser pago ao INSS será de {:.3f}'.format(salario, valor))\n",
        "\n",
        "        elif (salario > 6101.06):\n",
        "            valor = 713.09  # teto de contribuição\n",
        "            print('Com o salário de {} o valor a ser pago ao INSS será de {:.3f}'.format(salario, valor))\n",
        "\n",
        "calculo_inss([1500, 1600, 5000])"
      ],
      "execution_count": 4,
      "outputs": [
        {
          "output_type": "stream",
          "name": "stdout",
          "text": [
            "Com o salário de 1500 o valor a ser pago ao INSS será de 119.320\n",
            "Com o salário de 1600 o valor a ser pago ao INSS será de 128.320\n",
            "Com o salário de 5000 o valor a ser pago ao INSS será de 558.950\n"
          ]
        }
      ]
    }
  ]
}